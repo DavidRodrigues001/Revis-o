{
  "nbformat": 4,
  "nbformat_minor": 0,
  "metadata": {
    "colab": {
      "provenance": [],
      "authorship_tag": "ABX9TyO63LdmU56pBD3AHenqPol0",
      "include_colab_link": true
    },
    "kernelspec": {
      "name": "python3",
      "display_name": "Python 3"
    },
    "language_info": {
      "name": "python"
    }
  },
  "cells": [
    {
      "cell_type": "markdown",
      "metadata": {
        "id": "view-in-github",
        "colab_type": "text"
      },
      "source": [
        "<a href=\"https://colab.research.google.com/github/DavidRodrigues001/Aulas-de-Programacao/blob/main/Listas.ipynb\" target=\"_parent\"><img src=\"https://colab.research.google.com/assets/colab-badge.svg\" alt=\"Open In Colab\"/></a>"
      ]
    },
    {
      "cell_type": "markdown",
      "source": [
        "Listas"
      ],
      "metadata": {
        "id": "duk1mJ2MSGKE"
      }
    },
    {
      "cell_type": "code",
      "execution_count": 1,
      "metadata": {
        "colab": {
          "base_uri": "https://localhost:8080/"
        },
        "id": "-xlOhVw-R-nl",
        "outputId": "a9e33bef-12d3-41b9-ebb7-f54895b54009"
      },
      "outputs": [
        {
          "output_type": "stream",
          "name": "stdout",
          "text": [
            "['maçã', 'Banana', 'abacate', 'laranja']\n"
          ]
        }
      ],
      "source": [
        "#Imprimir Lista\n",
        "\n",
        "frutas = ['maçã','Banana','abacate','laranja']\n",
        "print(frutas)"
      ]
    },
    {
      "cell_type": "code",
      "source": [
        "#identificar o  tamanho de uma lista len(lista)\n",
        "print(len(frutas))"
      ],
      "metadata": {
        "colab": {
          "base_uri": "https://localhost:8080/"
        },
        "id": "g26qeyCfSsst",
        "outputId": "8fcac643-a247-4df0-8675-0c3702c3edec"
      },
      "execution_count": 2,
      "outputs": [
        {
          "output_type": "stream",
          "name": "stdout",
          "text": [
            "4\n"
          ]
        }
      ]
    },
    {
      "cell_type": "code",
      "source": [
        "#count() - quantas vezes um valor aparece\n",
        "frutas = ['maçã','banana','abacate','laranja','banana','banana','banana']\n",
        "print(frutas.count('banana'))"
      ],
      "metadata": {
        "colab": {
          "base_uri": "https://localhost:8080/"
        },
        "id": "mJjGr8YkTCeV",
        "outputId": "74e9db54-2705-449f-d076-ba7d382766bb"
      },
      "execution_count": 6,
      "outputs": [
        {
          "output_type": "stream",
          "name": "stdout",
          "text": [
            "4\n"
          ]
        }
      ]
    },
    {
      "cell_type": "code",
      "source": [
        "#imprimir elementos da lista pelo índice\n",
        "carros = ['gol','uno','fiesta','lada','marajó','voyage','santana']\n",
        "print(carros[0]) #gol\n",
        "print(carros[1]) #uno\n",
        "print(carros[2]) #fiesta\n",
        "print(carros[-1]) #santana\n",
        "print(carros[2:5]) #Slice do índicie 2 ao índice 4\n",
        "print(carros[:4]) #Slice até o índice 3\n",
        "print(carros[2:]) #Slice apartir do índice 2\n",
        "#print(carros[7]) OUT OF INDEX|Da erro porque tenta imprimir algo que não existe"
      ],
      "metadata": {
        "colab": {
          "base_uri": "https://localhost:8080/"
        },
        "id": "Y85UcqHsTjM9",
        "outputId": "3681a9e1-70de-463a-a212-fe58f02d939e"
      },
      "execution_count": 7,
      "outputs": [
        {
          "output_type": "stream",
          "name": "stdout",
          "text": [
            "gol\n",
            "uno\n",
            "fiesta\n",
            "santana\n",
            "['fiesta', 'lada', 'marajó']\n",
            "['gol', 'uno', 'fiesta', 'lada']\n",
            "['fiesta', 'lada', 'marajó', 'voyage', 'santana']\n"
          ]
        }
      ]
    },
    {
      "cell_type": "code",
      "source": [
        "#Adicionar elementos a sua lista\n",
        "frutas.append('goiaba')\n",
        "print(frutas)"
      ],
      "metadata": {
        "colab": {
          "base_uri": "https://localhost:8080/"
        },
        "id": "Utl8TTooUpG2",
        "outputId": "c2bf745c-7a5b-408a-9967-28eee9ceb5c1"
      },
      "execution_count": 8,
      "outputs": [
        {
          "output_type": "stream",
          "name": "stdout",
          "text": [
            "['maçã', 'banana', 'abacate', 'laranja', 'banana', 'banana', 'banana', 'goiaba']\n"
          ]
        }
      ]
    },
    {
      "cell_type": "code",
      "source": [
        "#Exercicio 1\n",
        "#faça um código que pede que o usuário digite frutas na lista frutas.\n",
        "\n",
        "fruta = input(\"Digite mais frutas: \")\n",
        "frutas.append(fruta)\n",
        "print(frutas)"
      ],
      "metadata": {
        "id": "gGIjrQwbWw-p"
      },
      "execution_count": null,
      "outputs": []
    },
    {
      "cell_type": "code",
      "source": [
        "#Exercicio 2\n",
        "#faça um laço o qual solicita ao usuario que digite o nome de um carro para inseri-lo na lista.\n",
        "#Ele para quando o usuario digitar o número 0.\n",
        "#ao final, imprime a lista e o seu tamanho.\n",
        "print(\"faça uma lista e pare digitando 0\")\n",
        "carros = []\n",
        "\n",
        "while True:\n",
        "  carro = input(\"Digite o carro: \")\n",
        "  if carro == '0':\n",
        "    break\n",
        "  carros.append(carro)\n",
        "\n",
        "print(carros)\n",
        "print(len(carros))"
      ],
      "metadata": {
        "colab": {
          "base_uri": "https://localhost:8080/"
        },
        "id": "PV180rLAW5Up",
        "outputId": "9ff20c23-57c0-4256-bbb6-bc6b2fd08956"
      },
      "execution_count": 30,
      "outputs": [
        {
          "output_type": "stream",
          "name": "stdout",
          "text": [
            "faça uma lista e pare digitando 0\n",
            "Digite o carro: opala\n",
            "Digite o carro: uno\n",
            "Digite o carro: 0\n",
            "['opala', 'uno']\n",
            "2\n"
          ]
        }
      ]
    },
    {
      "cell_type": "code",
      "source": [
        "#Exercicio 3\n",
        "#Um programa pyton que tem uma lista de valores, e o usuario deve digitar um numero\n",
        "#caso ele exista ma lista, ele retorna a quantidade de vezes que ele ocorre na lista\n",
        "#caso não exista ele informa ao usuario\" numero não existe\n",
        "\n",
        "lista=[2,4,5,2,3,7,8,2,5]\n",
        "numero = int (input(\"Digite um numero: \"))\n",
        "if numero in lista:\n",
        "  print(lista.count(numero))\n",
        "else:\n",
        "  print(\"NUmero não existe na lista!\")"
      ],
      "metadata": {
        "colab": {
          "base_uri": "https://localhost:8080/"
        },
        "id": "q7zLJYN3bmIT",
        "outputId": "e609e184-9b4c-4f3a-c2b7-012466f03b01"
      },
      "execution_count": 31,
      "outputs": [
        {
          "output_type": "stream",
          "name": "stdout",
          "text": [
            "Digite um numero: 4\n",
            "1\n"
          ]
        }
      ]
    },
    {
      "cell_type": "markdown",
      "source": [
        "Remover valores"
      ],
      "metadata": {
        "id": "T825fg38dv4E"
      }
    },
    {
      "cell_type": "code",
      "source": [
        "carros = ['gol','uno','fiesta','lada','marajó','voyage','santana']"
      ],
      "metadata": {
        "id": "DDn4BDwRdzBU"
      },
      "execution_count": 44,
      "outputs": []
    },
    {
      "cell_type": "code",
      "source": [
        "#pop()\n",
        "carros.pop()\n",
        "print(carros)"
      ],
      "metadata": {
        "id": "-ZNI8I7Nd6WU"
      },
      "execution_count": null,
      "outputs": []
    },
    {
      "cell_type": "code",
      "source": [
        "#pop pelo  índice\n",
        "lista =[\"maçã\", \"banana\", \"laranja\"]\n",
        "indice = lista.index(\"banana\") #encontrar o indice \"banana\"\n",
        "lista.pop(indice) #Remove pelo indice\n",
        "print(lista) #saida: [\"maçã\",\"laranja\"]"
      ],
      "metadata": {
        "id": "LSD4ikwceJQe"
      },
      "execution_count": null,
      "outputs": []
    },
    {
      "cell_type": "code",
      "source": [
        "#del list[index]\n",
        "nums = [4,5,3,2,6,8]\n",
        "\n",
        "del nums[3]\n",
        "print(nums)"
      ],
      "metadata": {
        "id": "rsN4U5Fje8Ty"
      },
      "execution_count": null,
      "outputs": []
    },
    {
      "cell_type": "code",
      "source": [
        "#remove() - remove a primeira ocorrencia do valor especificado\n",
        "lista = ['jaca','melão', 'manga','graviola']\n",
        "lista.remove('jaca')\n",
        "print(lista)"
      ],
      "metadata": {
        "colab": {
          "base_uri": "https://localhost:8080/"
        },
        "id": "CctLDC7bfucs",
        "outputId": "77edc29d-163c-4aea-e2f0-c71739b9fab8"
      },
      "execution_count": 45,
      "outputs": [
        {
          "output_type": "stream",
          "name": "stdout",
          "text": [
            "['melão', 'manga', 'graviola']\n"
          ]
        }
      ]
    },
    {
      "cell_type": "code",
      "source": [
        "#list comprehension\n",
        "lista = ['jaca','melão', 'manga','graviola','maça','jaca','banana','jaca']\n",
        "fruta_remove = 'jaca'\n",
        "lista = [x for x in lista if x != fruta_remove]\n",
        "print(lista)"
      ],
      "metadata": {
        "id": "SAj1f0k0geB-"
      },
      "execution_count": null,
      "outputs": []
    },
    {
      "cell_type": "code",
      "source": [
        "#na lista de notas a seguir mantenha apenas as que\n",
        "#são maiores ou iq=guais a sei. use list comprehension\n",
        "notas = [6,8,5,4,7,7,9,3,6]\n",
        "\n",
        "notas = [x for x in notas if x >=6]\n",
        "print(notas)"
      ],
      "metadata": {
        "colab": {
          "base_uri": "https://localhost:8080/"
        },
        "id": "4mwhYc58hJQB",
        "outputId": "c3b70cfc-a040-41f6-830b-0287a7a9f044"
      },
      "execution_count": 48,
      "outputs": [
        {
          "output_type": "stream",
          "name": "stdout",
          "text": [
            "[6, 8, 7, 7, 9, 6]\n"
          ]
        }
      ]
    },
    {
      "cell_type": "markdown",
      "source": [
        "### Exercicio\n",
        "Crie um programa que simula uma lista de tarefas.\n",
        "O programa deve exibir um menu com 4 opções:\n",
        "1. Adicionar tarefas\n",
        "2. Remover tarefas\n",
        "3. Listar terefas\n",
        "4. Sair\n",
        "O programa deve continuar no menu até o usúario escolher a opção sair."
      ],
      "metadata": {
        "id": "ZIdFDw2TjDwL"
      }
    }
  ]
}