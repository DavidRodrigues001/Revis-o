{
  "nbformat": 4,
  "nbformat_minor": 0,
  "metadata": {
    "colab": {
      "provenance": [],
      "authorship_tag": "ABX9TyMB0/nlF6cztjiqrR/vFaMx",
      "include_colab_link": true
    },
    "kernelspec": {
      "name": "python3",
      "display_name": "Python 3"
    },
    "language_info": {
      "name": "python"
    }
  },
  "cells": [
    {
      "cell_type": "markdown",
      "metadata": {
        "id": "view-in-github",
        "colab_type": "text"
      },
      "source": [
        "<a href=\"https://colab.research.google.com/github/DavidRodrigues001/Aulas-de-Programacao/blob/main/Listas.ipynb\" target=\"_parent\"><img src=\"https://colab.research.google.com/assets/colab-badge.svg\" alt=\"Open In Colab\"/></a>"
      ]
    },
    {
      "cell_type": "markdown",
      "source": [
        "Listas"
      ],
      "metadata": {
        "id": "duk1mJ2MSGKE"
      }
    },
    {
      "cell_type": "code",
      "execution_count": null,
      "metadata": {
        "colab": {
          "base_uri": "https://localhost:8080/"
        },
        "id": "-xlOhVw-R-nl",
        "outputId": "a9e33bef-12d3-41b9-ebb7-f54895b54009"
      },
      "outputs": [
        {
          "output_type": "stream",
          "name": "stdout",
          "text": [
            "['maçã', 'Banana', 'abacate', 'laranja']\n"
          ]
        }
      ],
      "source": [
        "#Imprimir Lista\n",
        "\n",
        "frutas = ['maçã','Banana','abacate','laranja']\n",
        "print(frutas)"
      ]
    },
    {
      "cell_type": "code",
      "source": [
        "#identificar o  tamanho de uma lista len(lista)\n",
        "print(len(frutas))"
      ],
      "metadata": {
        "colab": {
          "base_uri": "https://localhost:8080/"
        },
        "id": "g26qeyCfSsst",
        "outputId": "8fcac643-a247-4df0-8675-0c3702c3edec"
      },
      "execution_count": null,
      "outputs": [
        {
          "output_type": "stream",
          "name": "stdout",
          "text": [
            "4\n"
          ]
        }
      ]
    },
    {
      "cell_type": "code",
      "source": [
        "#count() - quantas vezes um valor aparece\n",
        "frutas = ['maçã','banana','abacate','laranja','banana','banana','banana']\n",
        "print(frutas.count('banana'))"
      ],
      "metadata": {
        "colab": {
          "base_uri": "https://localhost:8080/"
        },
        "id": "mJjGr8YkTCeV",
        "outputId": "74e9db54-2705-449f-d076-ba7d382766bb"
      },
      "execution_count": null,
      "outputs": [
        {
          "output_type": "stream",
          "name": "stdout",
          "text": [
            "4\n"
          ]
        }
      ]
    },
    {
      "cell_type": "code",
      "source": [
        "#imprimir elementos da lista pelo índice\n",
        "carros = ['gol','uno','fiesta','lada','marajó','voyage','santana']\n",
        "print(carros[0]) #gol\n",
        "print(carros[1]) #uno\n",
        "print(carros[2]) #fiesta\n",
        "print(carros[-1]) #santana\n",
        "print(carros[2:5]) #Slice do índicie 2 ao índice 4\n",
        "print(carros[:4]) #Slice até o índice 3\n",
        "print(carros[2:]) #Slice apartir do índice 2\n",
        "#print(carros[7]) OUT OF INDEX|Da erro porque tenta imprimir algo que não existe"
      ],
      "metadata": {
        "colab": {
          "base_uri": "https://localhost:8080/"
        },
        "id": "Y85UcqHsTjM9",
        "outputId": "3681a9e1-70de-463a-a212-fe58f02d939e"
      },
      "execution_count": null,
      "outputs": [
        {
          "output_type": "stream",
          "name": "stdout",
          "text": [
            "gol\n",
            "uno\n",
            "fiesta\n",
            "santana\n",
            "['fiesta', 'lada', 'marajó']\n",
            "['gol', 'uno', 'fiesta', 'lada']\n",
            "['fiesta', 'lada', 'marajó', 'voyage', 'santana']\n"
          ]
        }
      ]
    },
    {
      "cell_type": "code",
      "source": [
        "#Adicionar elementos a sua lista\n",
        "frutas.append('goiaba')\n",
        "print(frutas)"
      ],
      "metadata": {
        "colab": {
          "base_uri": "https://localhost:8080/"
        },
        "id": "Utl8TTooUpG2",
        "outputId": "c2bf745c-7a5b-408a-9967-28eee9ceb5c1"
      },
      "execution_count": null,
      "outputs": [
        {
          "output_type": "stream",
          "name": "stdout",
          "text": [
            "['maçã', 'banana', 'abacate', 'laranja', 'banana', 'banana', 'banana', 'goiaba']\n"
          ]
        }
      ]
    },
    {
      "cell_type": "code",
      "source": [
        "#Exercicio 1\n",
        "#faça um código que pede que o usuário digite frutas na lista frutas.\n",
        "\n",
        "fruta = input(\"Digite mais frutas: \")\n",
        "frutas.append(fruta)\n",
        "print(frutas)"
      ],
      "metadata": {
        "id": "gGIjrQwbWw-p"
      },
      "execution_count": null,
      "outputs": []
    },
    {
      "cell_type": "code",
      "source": [
        "#Exercicio 2\n",
        "#faça um laço o qual solicita ao usuario que digite o nome de um carro para inseri-lo na lista.\n",
        "#Ele para quando o usuario digitar o número 0.\n",
        "#ao final, imprime a lista e o seu tamanho.\n",
        "print(\"faça uma lista e pare digitando 0\")\n",
        "carros = []\n",
        "\n",
        "while True:\n",
        "  carro = input(\"Digite o carro: \")\n",
        "  if carro == '0':\n",
        "    break\n",
        "  carros.append(carro)\n",
        "\n",
        "print(carros)\n",
        "print(len(carros))"
      ],
      "metadata": {
        "colab": {
          "base_uri": "https://localhost:8080/"
        },
        "id": "PV180rLAW5Up",
        "outputId": "9ff20c23-57c0-4256-bbb6-bc6b2fd08956"
      },
      "execution_count": null,
      "outputs": [
        {
          "output_type": "stream",
          "name": "stdout",
          "text": [
            "faça uma lista e pare digitando 0\n",
            "Digite o carro: opala\n",
            "Digite o carro: uno\n",
            "Digite o carro: 0\n",
            "['opala', 'uno']\n",
            "2\n"
          ]
        }
      ]
    },
    {
      "cell_type": "code",
      "source": [
        "#Exercicio 3\n",
        "#Um programa pyton que tem uma lista de valores, e o usuario deve digitar um numero\n",
        "#caso ele exista ma lista, ele retorna a quantidade de vezes que ele ocorre na lista\n",
        "#caso não exista ele informa ao usuario\" numero não existe\n",
        "\n",
        "lista=[2,4,5,2,3,7,8,2,5]\n",
        "numero = int (input(\"Digite um numero: \"))\n",
        "if numero in lista:\n",
        "  print(lista.count(numero))\n",
        "else:\n",
        "  print(\"NUmero não existe na lista!\")"
      ],
      "metadata": {
        "colab": {
          "base_uri": "https://localhost:8080/"
        },
        "id": "q7zLJYN3bmIT",
        "outputId": "e609e184-9b4c-4f3a-c2b7-012466f03b01"
      },
      "execution_count": null,
      "outputs": [
        {
          "output_type": "stream",
          "name": "stdout",
          "text": [
            "Digite um numero: 4\n",
            "1\n"
          ]
        }
      ]
    },
    {
      "cell_type": "markdown",
      "source": [
        "Remover valores"
      ],
      "metadata": {
        "id": "T825fg38dv4E"
      }
    },
    {
      "cell_type": "code",
      "source": [
        "carros = ['gol','uno','fiesta','lada','marajó','voyage','santana']"
      ],
      "metadata": {
        "id": "DDn4BDwRdzBU"
      },
      "execution_count": null,
      "outputs": []
    },
    {
      "cell_type": "code",
      "source": [
        "#pop()\n",
        "carros.pop()\n",
        "print(carros)"
      ],
      "metadata": {
        "id": "-ZNI8I7Nd6WU"
      },
      "execution_count": null,
      "outputs": []
    },
    {
      "cell_type": "code",
      "source": [
        "#pop pelo  índice\n",
        "lista =[\"maçã\", \"banana\", \"laranja\"]\n",
        "indice = lista.index(\"banana\") #encontrar o indice \"banana\"\n",
        "lista.pop(indice) #Remove pelo indice\n",
        "print(lista) #saida: [\"maçã\",\"laranja\"]"
      ],
      "metadata": {
        "id": "LSD4ikwceJQe"
      },
      "execution_count": null,
      "outputs": []
    },
    {
      "cell_type": "code",
      "source": [
        "#del list[index]\n",
        "nums = [4,5,3,2,6,8]\n",
        "\n",
        "del nums[3]\n",
        "print(nums)"
      ],
      "metadata": {
        "id": "rsN4U5Fje8Ty"
      },
      "execution_count": null,
      "outputs": []
    },
    {
      "cell_type": "code",
      "source": [
        "#remove() - remove a primeira ocorrencia do valor especificado\n",
        "lista = ['jaca','melão', 'manga','graviola']\n",
        "lista.remove('jaca')\n",
        "print(lista)"
      ],
      "metadata": {
        "colab": {
          "base_uri": "https://localhost:8080/"
        },
        "id": "CctLDC7bfucs",
        "outputId": "77edc29d-163c-4aea-e2f0-c71739b9fab8"
      },
      "execution_count": null,
      "outputs": [
        {
          "output_type": "stream",
          "name": "stdout",
          "text": [
            "['melão', 'manga', 'graviola']\n"
          ]
        }
      ]
    },
    {
      "cell_type": "code",
      "source": [
        "#list comprehension\n",
        "lista = ['jaca','melão', 'manga','graviola','maça','jaca','banana','jaca']\n",
        "fruta_remove = 'jaca'\n",
        "lista = [x for x in lista if x != fruta_remove]\n",
        "print(lista)"
      ],
      "metadata": {
        "id": "SAj1f0k0geB-"
      },
      "execution_count": null,
      "outputs": []
    },
    {
      "cell_type": "code",
      "source": [
        "#na lista de notas a seguir mantenha apenas as que\n",
        "#são maiores ou iq=guais a sei. use list comprehension\n",
        "notas = [6,8,5,4,7,7,9,3,6]\n",
        "\n",
        "notas = [x for x in notas if x >=6]\n",
        "print(notas)"
      ],
      "metadata": {
        "colab": {
          "base_uri": "https://localhost:8080/"
        },
        "id": "4mwhYc58hJQB",
        "outputId": "c3b70cfc-a040-41f6-830b-0287a7a9f044"
      },
      "execution_count": null,
      "outputs": [
        {
          "output_type": "stream",
          "name": "stdout",
          "text": [
            "[6, 8, 7, 7, 9, 6]\n"
          ]
        }
      ]
    },
    {
      "cell_type": "markdown",
      "source": [
        "### Exercicio\n",
        "Crie um programa que simula uma lista de tarefas.\n",
        "O programa deve exibir um menu com 4 opções:\n",
        "1. Adicionar tarefas\n",
        "2. Remover tarefas\n",
        "3. Listar terefas\n",
        "4. Sair\n",
        "O programa deve continuar no menu até o usúario escolher a opção sair."
      ],
      "metadata": {
        "id": "ZIdFDw2TjDwL"
      }
    },
    {
      "cell_type": "code",
      "source": [
        "tarefas = []\n",
        "\n",
        "while True:\n",
        "    print(\"\\nMenu de Tarefas\")\n",
        "    print(\"1. Adicionar tarefa\")\n",
        "    print(\"2. Remover tarefa\")\n",
        "    print(\"3. Listar tarefas\")\n",
        "    print(\"4. Sair\")\n",
        "\n",
        "    opcao = input(\"Escolha uma opção: \")\n",
        "\n",
        "    if opcao == \"1\":\n",
        "        tarefa = input(\"Digite a tarefa: \")\n",
        "        tarefas.append(tarefa)\n",
        "        print(\"Tarefa adicionada!\")\n",
        "    elif opcao == \"2\":\n",
        "        if tarefas:\n",
        "            for i, t in enumerate(tarefas, start=1):\n",
        "                print(f\"{i}. {t}\")\n",
        "            try:\n",
        "                indice = int(input(\"Digite o número da tarefa para remover: \")) - 1\n",
        "                if 0 <= indice < len(tarefas):\n",
        "                    del tarefas[indice]\n",
        "                    print(\"Tarefa removida!\")\n",
        "                else:\n",
        "                    print(\"Número inválido!\")\n",
        "            except ValueError:\n",
        "                print(\"Entrada inválida!\")\n",
        "        else:\n",
        "            print(\"Nenhuma tarefa para remover.\")\n",
        "    elif opcao == \"3\":\n",
        "        if tarefas:\n",
        "            print(\"\\nLista de Tarefas:\")\n",
        "            for i, t in enumerate(tarefas, start=1):\n",
        "                print(f\"{i}. {t}\")\n",
        "        else:\n",
        "            print(\"Nenhuma tarefa na lista.\")\n",
        "    elif opcao == \"4\":\n",
        "        print(\"Saindo...\")\n",
        "        break\n",
        "    else:\n",
        "        print(\"Opção inválida! Tente novamente.\")"
      ],
      "metadata": {
        "id": "IeKxzaHrQ3hW"
      },
      "execution_count": null,
      "outputs": []
    },
    {
      "cell_type": "markdown",
      "source": [
        "List comprehens"
      ],
      "metadata": {
        "id": "_Uwwc7ThZkdj"
      }
    },
    {
      "cell_type": "code",
      "source": [
        "#Exibe as notas menores que 5\n",
        "notas = [10, 4, 2, 5, 1, 9, 8, 6]\n",
        "menores = [nota for nota in notas if nota <= 5]\n",
        "print(menores)"
      ],
      "metadata": {
        "colab": {
          "base_uri": "https://localhost:8080/"
        },
        "id": "PzTY-QOzaSzy",
        "outputId": "a492c59d-ef71-473f-d5ee-297ef88a1d1b"
      },
      "execution_count": 6,
      "outputs": [
        {
          "output_type": "stream",
          "name": "stdout",
          "text": [
            "[4, 2, 5, 1]\n"
          ]
        }
      ]
    },
    {
      "cell_type": "code",
      "source": [
        "#Criar uma lista com os quadros dos números de 0 a 9\n",
        "quadros = [x **2 for x in range(10)]\n",
        "print(quadros)"
      ],
      "metadata": {
        "colab": {
          "base_uri": "https://localhost:8080/"
        },
        "id": "-RlexAmQZnnK",
        "outputId": "a39edd10-aaa1-498c-9598-5d02296fd259"
      },
      "execution_count": 7,
      "outputs": [
        {
          "output_type": "stream",
          "name": "stdout",
          "text": [
            "[0, 1, 4, 9, 16, 25, 36, 49, 64, 81]\n"
          ]
        }
      ]
    },
    {
      "cell_type": "code",
      "source": [
        "#List comprehens com condicional\n",
        "#Filtrar apenas os números pares de uma lsta\n",
        "numeros = [1,2,3,4,5,6]\n",
        "pares = [n for n in numeros if n % 2 == 0]\n",
        "print(pares)"
      ],
      "metadata": {
        "colab": {
          "base_uri": "https://localhost:8080/"
        },
        "id": "zbcQm8Otbu0j",
        "outputId": "7b80d49b-1be0-4b40-e1ab-bd3409dc6a35"
      },
      "execution_count": 8,
      "outputs": [
        {
          "output_type": "stream",
          "name": "stdout",
          "text": [
            "[2, 4, 6]\n"
          ]
        }
      ]
    },
    {
      "cell_type": "code",
      "source": [
        "#Strings\n",
        "nome = 'David'\n",
        "for letra in nome:\n",
        "  print(letra)\n",
        "print(len(nome)) #Imprime o tamanho da String\n",
        "print(nome.upper()) #Todos os caracteres maiusculos\n",
        "print(nome.lower()) #Todods os caracteres minusculos"
      ],
      "metadata": {
        "id": "X103CrhQd8ut"
      },
      "execution_count": null,
      "outputs": []
    },
    {
      "cell_type": "code",
      "source": [
        "nomes = ['João', 'Ana', 'Epaminondas', 'Godrofedo','Lair','Setembrino']\n",
        "\n",
        "maisde5 = [nome for nome in nomes if len(nomes) >= 5]\n",
        "print(maisde5)\n"
      ],
      "metadata": {
        "id": "u1n66sbZesM9"
      },
      "execution_count": null,
      "outputs": []
    },
    {
      "cell_type": "code",
      "source": [
        "nomes = ['João', 'Ana', 'Epaminondas', 'Godrofedo','Lair','Setembrino']\n",
        "caixaAlta = [nome.upper() for nome in nomes if len(nome)<5]\n",
        "print(caixaAlta)"
      ],
      "metadata": {
        "colab": {
          "base_uri": "https://localhost:8080/"
        },
        "id": "bNRfPGx1hGVG",
        "outputId": "09468de7-6b5b-482c-d31f-9408300537cf"
      },
      "execution_count": 17,
      "outputs": [
        {
          "output_type": "stream",
          "name": "stdout",
          "text": [
            "['JOÃO', 'ANA', 'LAIR']\n"
          ]
        }
      ]
    },
    {
      "cell_type": "code",
      "source": [
        "#Dobrar os números imparea de uma lista\n",
        "dobro_impares = [n*2 for n in numeros if n % 2 != 0]\n",
        "print(dobro_impares)"
      ],
      "metadata": {
        "colab": {
          "base_uri": "https://localhost:8080/"
        },
        "id": "kdDU_84peq6W",
        "outputId": "91af52fc-ac95-4e5b-81c5-c7aaf1b93e2f"
      },
      "execution_count": 18,
      "outputs": [
        {
          "output_type": "stream",
          "name": "stdout",
          "text": [
            "[2, 6, 10]\n"
          ]
        }
      ]
    },
    {
      "cell_type": "code",
      "source": [
        "# Atribuir 2 pontos as notas menores que 5\n",
        "notas = [9.0,4.5,2.3,6.0,8.2,5.3]\n",
        "pontos = [nota+2 for nota in notas if nota <5]\n",
        "print(pontos)"
      ],
      "metadata": {
        "colab": {
          "base_uri": "https://localhost:8080/"
        },
        "id": "b-muteO7iK0P",
        "outputId": "b302d136-52eb-4431-a5da-449f4f78fea3"
      },
      "execution_count": 24,
      "outputs": [
        {
          "output_type": "stream",
          "name": "stdout",
          "text": [
            "[6.5, 4.3]\n"
          ]
        }
      ]
    },
    {
      "cell_type": "markdown",
      "source": [
        "Função Lambda\n",
        "--------------\n",
        "Lambda cria Funções anônimas, ou seja, sem nome. E usada para escrever"
      ],
      "metadata": {
        "id": "UMiXqjdoj5zJ"
      }
    },
    {
      "cell_type": "code",
      "source": [
        "#Retornar a metade de um numero usando Lambda\n",
        "numero = lambda a : a/2\n",
        "print(numero(5))"
      ],
      "metadata": {
        "colab": {
          "base_uri": "https://localhost:8080/"
        },
        "id": "w_u8I3sylULq",
        "outputId": "f6dca54e-a909-4812-b87c-bb6d8f14fa6e"
      },
      "execution_count": 26,
      "outputs": [
        {
          "output_type": "stream",
          "name": "stdout",
          "text": [
            "2.5\n"
          ]
        }
      ]
    },
    {
      "cell_type": "code",
      "source": [
        "#Função que soma dois valores\n",
        "soma = lambda x,y : x+y\n",
        "print(soma(10,5))"
      ],
      "metadata": {
        "colab": {
          "base_uri": "https://localhost:8080/"
        },
        "id": "vN8JpvVEkX_8",
        "outputId": "c513ba05-46f8-4908-e83c-652bb23c4716"
      },
      "execution_count": 27,
      "outputs": [
        {
          "output_type": "stream",
          "name": "stdout",
          "text": [
            "15\n"
          ]
        }
      ]
    },
    {
      "cell_type": "markdown",
      "source": [
        "map() --> Transformar\n",
        "----------------------\n"
      ],
      "metadata": {
        "id": "tftsRalHmCss"
      }
    },
    {
      "cell_type": "code",
      "source": [
        "#Com map\n",
        "#list(map(funçãolambda,Lista que esta sendo usada))\n",
        "numeros = [2,3,4,5,6,7]\n",
        "quadrados = list(map(lambda x: x**2, numeros))\n",
        "print(quadrados)"
      ],
      "metadata": {
        "colab": {
          "base_uri": "https://localhost:8080/"
        },
        "id": "Qp_yWOnZmNDE",
        "outputId": "3711cc82-df46-4691-b6fb-47c3e5fa7650"
      },
      "execution_count": 28,
      "outputs": [
        {
          "output_type": "stream",
          "name": "stdout",
          "text": [
            "[4, 9, 16, 25, 36, 49]\n"
          ]
        }
      ]
    },
    {
      "cell_type": "code",
      "source": [
        "#Criar uma lista com o dobro de cada elemento\n",
        "numeros = [1,2,3,4,5,6]\n",
        "dobro = list(map(lambda x: x*2, numeros))\n",
        "print(dobro)"
      ],
      "metadata": {
        "colab": {
          "base_uri": "https://localhost:8080/"
        },
        "id": "dpV_d9_Fmcvc",
        "outputId": "eb1fde6b-6567-40ea-e646-f7562a09e6bd"
      },
      "execution_count": 29,
      "outputs": [
        {
          "output_type": "stream",
          "name": "stdout",
          "text": [
            "[2, 4, 6, 8, 10, 12]\n"
          ]
        }
      ]
    },
    {
      "cell_type": "code",
      "source": [
        "#Converter uma lista de palavras para letras maiusculas\n",
        "palavras = ['é','Hoje','My','Consagrated']\n",
        "caixaalta = list(map(lambda x : x.upper(), palavras))\n",
        "print(caixaalta)"
      ],
      "metadata": {
        "colab": {
          "base_uri": "https://localhost:8080/"
        },
        "id": "ObooF6oOnXe-",
        "outputId": "c245e6e0-ddf6-4829-a745-8a4bc04e4dd9"
      },
      "execution_count": 32,
      "outputs": [
        {
          "output_type": "stream",
          "name": "stdout",
          "text": [
            "['É', 'HOJE', 'MY', 'CONSAGRATED']\n"
          ]
        }
      ]
    },
    {
      "cell_type": "markdown",
      "source": [
        "Filter"
      ],
      "metadata": {
        "id": "ynVv3aZjo6R_"
      }
    },
    {
      "cell_type": "code",
      "source": [
        "numeros = [1,2,3,4]\n",
        "pares = list(filter(lambda x : x % 2 == 0, numeros))\n",
        "print(pares)"
      ],
      "metadata": {
        "colab": {
          "base_uri": "https://localhost:8080/"
        },
        "id": "MTlhGBdQoEBK",
        "outputId": "e7aaeb20-14b1-43f3-b8e4-80900c38580b"
      },
      "execution_count": 33,
      "outputs": [
        {
          "output_type": "stream",
          "name": "stdout",
          "text": [
            "[2, 4]\n"
          ]
        }
      ]
    },
    {
      "cell_type": "code",
      "source": [
        "#Filtrar apenas palavras com mais de 4 letras\n",
        "nomes = ['Cristiano','Alien','Ary','Bete','Já']\n",
        "filtrar = list(filter(lambda x : len(x)>4, nomes))\n",
        "print(filtrar)"
      ],
      "metadata": {
        "colab": {
          "base_uri": "https://localhost:8080/"
        },
        "id": "x8Tkeh3GpK6A",
        "outputId": "8d83fdf2-4ac9-46f6-9358-48b11ae2620c"
      },
      "execution_count": 36,
      "outputs": [
        {
          "output_type": "stream",
          "name": "stdout",
          "text": [
            "['Cristiano', 'Alien']\n"
          ]
        }
      ]
    },
    {
      "cell_type": "code",
      "source": [
        "numeros = [3,7,2,8,1,4,10]\n",
        "dobro = list(map(lambda x: x*2, numeros))\n",
        "print(dobro)\n",
        "\n",
        "pares = list(filter(lambda x : x % 2 == 0, numeros))\n",
        "print(pares)\n",
        "\n",
        "paresImpares = [n*2 if n % 2 == 0 else n for n in numeros]\n",
        "print(paresImpares)"
      ],
      "metadata": {
        "colab": {
          "base_uri": "https://localhost:8080/"
        },
        "id": "FeBwFchOrLk9",
        "outputId": "362c4e86-8638-4823-e352-3aef0d299eaa"
      },
      "execution_count": 39,
      "outputs": [
        {
          "output_type": "stream",
          "name": "stdout",
          "text": [
            "[6, 14, 4, 16, 2, 8, 20]\n",
            "[2, 8, 4, 10]\n",
            "[3, 7, 4, 16, 1, 8, 20]\n"
          ]
        }
      ]
    }
  ]
}